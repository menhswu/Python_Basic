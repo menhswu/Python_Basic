print('Hello World!')


a=3


b=1.24


c='hello'

d=True

print(a, type(a))
print(b, type(b))
print(c, type(c))
print(d, type(d))

